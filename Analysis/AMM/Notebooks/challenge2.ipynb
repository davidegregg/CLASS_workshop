{
 "cells": [
  {
   "cell_type": "code",
   "execution_count": 1,
   "id": "b8c30f02-da7d-4e34-bbdf-88be3a7166d6",
   "metadata": {},
   "outputs": [
    {
     "name": "stderr",
     "output_type": "stream",
     "text": [
      "/home/users/train023/.conda/envs/coast_wrk_shp/lib/python3.10/site-packages/pydap/lib.py:5: DeprecationWarning: pkg_resources is deprecated as an API. See https://setuptools.pypa.io/en/latest/pkg_resources.html\n",
      "/home/users/train023/.conda/envs/coast_wrk_shp/lib/python3.10/site-packages/pkg_resources/__init__.py:2846: DeprecationWarning: Deprecated call to `pkg_resources.declare_namespace('pydap')`.\n",
      "Implementing implicit namespace packages (as specified in PEP 420) is preferred to `pkg_resources.declare_namespace`. See https://setuptools.pypa.io/en/latest/references/keywords.html#keyword-namespace-packages\n",
      "/home/users/train023/.conda/envs/coast_wrk_shp/lib/python3.10/site-packages/pkg_resources/__init__.py:2846: DeprecationWarning: Deprecated call to `pkg_resources.declare_namespace('pydap.responses')`.\n",
      "Implementing implicit namespace packages (as specified in PEP 420) is preferred to `pkg_resources.declare_namespace`. See https://setuptools.pypa.io/en/latest/references/keywords.html#keyword-namespace-packages\n",
      "/home/users/train023/.conda/envs/coast_wrk_shp/lib/python3.10/site-packages/pkg_resources/__init__.py:2331: DeprecationWarning: Deprecated call to `pkg_resources.declare_namespace('pydap')`.\n",
      "Implementing implicit namespace packages (as specified in PEP 420) is preferred to `pkg_resources.declare_namespace`. See https://setuptools.pypa.io/en/latest/references/keywords.html#keyword-namespace-packages\n",
      "/home/users/train023/.conda/envs/coast_wrk_shp/lib/python3.10/site-packages/pkg_resources/__init__.py:2846: DeprecationWarning: Deprecated call to `pkg_resources.declare_namespace('pydap.handlers')`.\n",
      "Implementing implicit namespace packages (as specified in PEP 420) is preferred to `pkg_resources.declare_namespace`. See https://setuptools.pypa.io/en/latest/references/keywords.html#keyword-namespace-packages\n",
      "/home/users/train023/.conda/envs/coast_wrk_shp/lib/python3.10/site-packages/pkg_resources/__init__.py:2331: DeprecationWarning: Deprecated call to `pkg_resources.declare_namespace('pydap')`.\n",
      "Implementing implicit namespace packages (as specified in PEP 420) is preferred to `pkg_resources.declare_namespace`. See https://setuptools.pypa.io/en/latest/references/keywords.html#keyword-namespace-packages\n",
      "/home/users/train023/.conda/envs/coast_wrk_shp/lib/python3.10/site-packages/pkg_resources/__init__.py:2846: DeprecationWarning: Deprecated call to `pkg_resources.declare_namespace('pydap.tests')`.\n",
      "Implementing implicit namespace packages (as specified in PEP 420) is preferred to `pkg_resources.declare_namespace`. See https://setuptools.pypa.io/en/latest/references/keywords.html#keyword-namespace-packages\n",
      "/home/users/train023/.conda/envs/coast_wrk_shp/lib/python3.10/site-packages/pkg_resources/__init__.py:2331: DeprecationWarning: Deprecated call to `pkg_resources.declare_namespace('pydap')`.\n",
      "Implementing implicit namespace packages (as specified in PEP 420) is preferred to `pkg_resources.declare_namespace`. See https://setuptools.pypa.io/en/latest/references/keywords.html#keyword-namespace-packages\n",
      "/home/users/train023/.conda/envs/coast_wrk_shp/lib/python3.10/site-packages/utide/harmonics.py:16: RuntimeWarning: invalid value encountered in cast\n",
      "/home/users/train023/.conda/envs/coast_wrk_shp/lib/python3.10/site-packages/utide/harmonics.py:17: RuntimeWarning: invalid value encountered in cast\n"
     ]
    }
   ],
   "source": [
    "import coast\n",
    "import matplotlib.pyplot as plt\n",
    "import cartopy.crs as ccrs\n",
    "from cartopy.mpl.ticker import LatitudeFormatter, LongitudeFormatter\n",
    "import cartopy.feature as cfeature\n",
    "import numpy as np"
   ]
  },
  {
   "cell_type": "code",
   "execution_count": 2,
   "id": "7108e483-e494-437d-b62f-6a351aa869fa",
   "metadata": {},
   "outputs": [],
   "source": [
    "# User directory\n",
    "uid = \"train023\"\n",
    "\n",
    "# Analysis year and month\n",
    "year = 2004\n",
    "month = 1\n",
    "\n",
    "# yyyymm format\n",
    "yyyymm = str(year) + str(month).zfill(2)\n",
    "\n",
    "# Set model paths\n",
    "path = \"/gws/pw/j07/workshop/users/AMM/AMM7_SSB_sample/\"\n",
    "model_path_t = path +  \"amm7_1d_{0}01_{0}31_grid_T.nc\".format(yyyymm)\n",
    "model_path_u = path +  \"amm7_1d_{0}01_{0}31_grid_U.nc\".format(yyyymm)\n",
    "model_path_v = path +  \"amm7_1d_{0}01_{0}31_grid_V.nc\".format(yyyymm)\n",
    "jmmp_path = \"/gws/nopw/j04/jmmp/\"\n",
    "domcfg_path = path + \"amm7_SSB_mesh_mask.nc\"\n",
    "en4_path=\"/gws/pw/j07/workshop/users/AMM/EN4/\"\n",
    "\n",
    "# Set config paths\n",
    "cfg_path = \"/home/users/{}/Documents/CLASS_workshop/Analysis/AMM/COAST_CFG/\".format(uid)\n",
    "nemo_t_json = cfg_path + \"example_nemo_grid_t.json\"\n",
    "nemo_u_json = cfg_path + \"example_nemo_grid_u.json\"\n",
    "nemo_v_json = cfg_path + \"example_nemo_grid_v.json\"\n",
    "nemo_f_json = cfg_path + \"example_nemo_grid_v.json\"\n",
    "en4_json = cfg_path + \"example_en4_profiles.json\""
   ]
  },
  {
   "cell_type": "code",
   "execution_count": 3,
   "id": "f39ad4c6-934e-4a23-93be-61afa8d2365b",
   "metadata": {},
   "outputs": [],
   "source": [
    "# Assign NEMO output to Gridded object\n",
    "nemo_t = coast.Gridded(model_path_t, domcfg_path, config=nemo_t_json)\n",
    "nemo_u = coast.Gridded(model_path_u, domcfg_path, config=nemo_u_json)\n",
    "nemo_v = coast.Gridded(model_path_v, domcfg_path, config=nemo_v_json)\n",
    "nemo_f = coast.Gridded(fn_domain=domcfg_path, config=nemo_f_json)"
   ]
  },
  {
   "cell_type": "code",
   "execution_count": 5,
   "id": "2e70edaf-02a0-419f-8730-161d62f69b4f",
   "metadata": {},
   "outputs": [],
   "source": [
    "# Define convenient aliases based on nemo data\n",
    "lon = nemo_t.dataset.longitude.values\n",
    "lat = nemo_t.dataset.latitude.values\n",
    "bathy = nemo_t.dataset.bathymetry.values\n",
    "\n",
    "# Define MaskMaker function\n",
    "mm = coast.MaskMaker()\n",
    "\n",
    "# Define Regional Masks\n",
    "regional_masks = []\n",
    "\n",
    "# Add regional mask for whole domain\n",
    "regional_masks.append(np.ones(lon.shape))\n",
    "\n",
    "# Add regional mask for English Channel\n",
    "regional_masks.append(mm.region_def_nws_north_north_sea(lon, lat, bathy))\n",
    "regional_masks.append(mm.region_def_nws_south_north_sea(lon, lat, bathy))\n",
    "regional_masks.append(mm.region_def_nws_outer_shelf(lon, lat, bathy))\n",
    "regional_masks.append(mm.region_def_nws_norwegian_trench(lon, lat, bathy))\n",
    "regional_masks.append(mm.region_def_nws_english_channel(lon, lat, bathy))\n",
    "regional_masks.append(mm.region_def_nws_off_shelf(lon, lat, bathy))\n",
    "regional_masks.append(mm.region_def_nws_irish_sea(lon, lat, bathy))\n",
    "regional_masks.append(mm.region_def_nws_kattegat(lon, lat, bathy))\n",
    "regional_masks.append(mm.region_def_nws_fsc(lon, lat, bathy))\n",
    "\n",
    "masks_names = [\"whole domain\", \"northern north sea\", \"southern north sea\", \"outer shelf\",\n",
    "               \"norwegian trench\", \"english_channel\",  \"off shelf\",\n",
    "                \"irish sea\", \"kattegat\", \"fsc\"]"
   ]
  },
  {
   "cell_type": "code",
   "execution_count": null,
   "id": "d5a4bcc9-c3be-47d6-a596-55de6d261d68",
   "metadata": {},
   "outputs": [],
   "source": []
  }
 ],
 "metadata": {
  "kernelspec": {
   "display_name": "coast_wrk_shp",
   "language": "python",
   "name": "coast_wrk_shp"
  },
  "language_info": {
   "codemirror_mode": {
    "name": "ipython",
    "version": 3
   },
   "file_extension": ".py",
   "mimetype": "text/x-python",
   "name": "python",
   "nbconvert_exporter": "python",
   "pygments_lexer": "ipython3",
   "version": "3.10.13"
  }
 },
 "nbformat": 4,
 "nbformat_minor": 5
}
